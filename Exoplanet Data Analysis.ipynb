{
 "cells": [
  {
   "cell_type": "code",
   "execution_count": 1,
   "id": "a8cc4086",
   "metadata": {},
   "outputs": [],
   "source": [
    "import numpy as np\n",
    "import pandas as pd\n",
    "import matplotlib.pyplot as plt\n",
    "import seaborn as sns\n",
    "from sklearn.linear_model import LinearRegression\n",
    "from sklearn.preprocessing import StandardScaler\n",
    "from sklearn.metrics import roc_curve, roc_auc_score\n",
    "from scipy.ndimage.filters import uniform_filter1d\n",
    "from keras.models import Sequential, Model\n",
    "from keras.layers import Conv1D, MaxPool1D, Dense, Dropout, Flatten, \\\n",
    "BatchNormalization, Input, Activation\n",
    "from tensorflow.keras.optimizers import Adam"
   ]
  },
  {
   "cell_type": "code",
   "execution_count": 2,
   "id": "a214dabf",
   "metadata": {},
   "outputs": [],
   "source": [
    "train_d = pd.read_csv(\"dataset/exoTrain.csv\")"
   ]
  },
  {
   "cell_type": "code",
   "execution_count": 3,
   "id": "f62de154",
   "metadata": {},
   "outputs": [
    {
     "data": {
      "text/html": [
       "<div>\n",
       "<style scoped>\n",
       "    .dataframe tbody tr th:only-of-type {\n",
       "        vertical-align: middle;\n",
       "    }\n",
       "\n",
       "    .dataframe tbody tr th {\n",
       "        vertical-align: top;\n",
       "    }\n",
       "\n",
       "    .dataframe thead th {\n",
       "        text-align: right;\n",
       "    }\n",
       "</style>\n",
       "<table border=\"1\" class=\"dataframe\">\n",
       "  <thead>\n",
       "    <tr style=\"text-align: right;\">\n",
       "      <th></th>\n",
       "      <th>LABEL</th>\n",
       "      <th>FLUX.1</th>\n",
       "      <th>FLUX.2</th>\n",
       "      <th>FLUX.3</th>\n",
       "      <th>FLUX.4</th>\n",
       "      <th>FLUX.5</th>\n",
       "      <th>FLUX.6</th>\n",
       "      <th>FLUX.7</th>\n",
       "      <th>FLUX.8</th>\n",
       "      <th>FLUX.9</th>\n",
       "      <th>...</th>\n",
       "      <th>FLUX.3188</th>\n",
       "      <th>FLUX.3189</th>\n",
       "      <th>FLUX.3190</th>\n",
       "      <th>FLUX.3191</th>\n",
       "      <th>FLUX.3192</th>\n",
       "      <th>FLUX.3193</th>\n",
       "      <th>FLUX.3194</th>\n",
       "      <th>FLUX.3195</th>\n",
       "      <th>FLUX.3196</th>\n",
       "      <th>FLUX.3197</th>\n",
       "    </tr>\n",
       "  </thead>\n",
       "  <tbody>\n",
       "    <tr>\n",
       "      <th>0</th>\n",
       "      <td>2</td>\n",
       "      <td>93.85</td>\n",
       "      <td>83.81</td>\n",
       "      <td>20.10</td>\n",
       "      <td>-26.98</td>\n",
       "      <td>-39.56</td>\n",
       "      <td>-124.71</td>\n",
       "      <td>-135.18</td>\n",
       "      <td>-96.27</td>\n",
       "      <td>-79.89</td>\n",
       "      <td>...</td>\n",
       "      <td>-78.07</td>\n",
       "      <td>-102.15</td>\n",
       "      <td>-102.15</td>\n",
       "      <td>25.13</td>\n",
       "      <td>48.57</td>\n",
       "      <td>92.54</td>\n",
       "      <td>39.32</td>\n",
       "      <td>61.42</td>\n",
       "      <td>5.08</td>\n",
       "      <td>-39.54</td>\n",
       "    </tr>\n",
       "    <tr>\n",
       "      <th>1</th>\n",
       "      <td>2</td>\n",
       "      <td>-38.88</td>\n",
       "      <td>-33.83</td>\n",
       "      <td>-58.54</td>\n",
       "      <td>-40.09</td>\n",
       "      <td>-79.31</td>\n",
       "      <td>-72.81</td>\n",
       "      <td>-86.55</td>\n",
       "      <td>-85.33</td>\n",
       "      <td>-83.97</td>\n",
       "      <td>...</td>\n",
       "      <td>-3.28</td>\n",
       "      <td>-32.21</td>\n",
       "      <td>-32.21</td>\n",
       "      <td>-24.89</td>\n",
       "      <td>-4.86</td>\n",
       "      <td>0.76</td>\n",
       "      <td>-11.70</td>\n",
       "      <td>6.46</td>\n",
       "      <td>16.00</td>\n",
       "      <td>19.93</td>\n",
       "    </tr>\n",
       "    <tr>\n",
       "      <th>2</th>\n",
       "      <td>2</td>\n",
       "      <td>532.64</td>\n",
       "      <td>535.92</td>\n",
       "      <td>513.73</td>\n",
       "      <td>496.92</td>\n",
       "      <td>456.45</td>\n",
       "      <td>466.00</td>\n",
       "      <td>464.50</td>\n",
       "      <td>486.39</td>\n",
       "      <td>436.56</td>\n",
       "      <td>...</td>\n",
       "      <td>-71.69</td>\n",
       "      <td>13.31</td>\n",
       "      <td>13.31</td>\n",
       "      <td>-29.89</td>\n",
       "      <td>-20.88</td>\n",
       "      <td>5.06</td>\n",
       "      <td>-11.80</td>\n",
       "      <td>-28.91</td>\n",
       "      <td>-70.02</td>\n",
       "      <td>-96.67</td>\n",
       "    </tr>\n",
       "    <tr>\n",
       "      <th>3</th>\n",
       "      <td>2</td>\n",
       "      <td>326.52</td>\n",
       "      <td>347.39</td>\n",
       "      <td>302.35</td>\n",
       "      <td>298.13</td>\n",
       "      <td>317.74</td>\n",
       "      <td>312.70</td>\n",
       "      <td>322.33</td>\n",
       "      <td>311.31</td>\n",
       "      <td>312.42</td>\n",
       "      <td>...</td>\n",
       "      <td>5.71</td>\n",
       "      <td>-3.73</td>\n",
       "      <td>-3.73</td>\n",
       "      <td>30.05</td>\n",
       "      <td>20.03</td>\n",
       "      <td>-12.67</td>\n",
       "      <td>-8.77</td>\n",
       "      <td>-17.31</td>\n",
       "      <td>-17.35</td>\n",
       "      <td>13.98</td>\n",
       "    </tr>\n",
       "    <tr>\n",
       "      <th>4</th>\n",
       "      <td>2</td>\n",
       "      <td>-1107.21</td>\n",
       "      <td>-1112.59</td>\n",
       "      <td>-1118.95</td>\n",
       "      <td>-1095.10</td>\n",
       "      <td>-1057.55</td>\n",
       "      <td>-1034.48</td>\n",
       "      <td>-998.34</td>\n",
       "      <td>-1022.71</td>\n",
       "      <td>-989.57</td>\n",
       "      <td>...</td>\n",
       "      <td>-594.37</td>\n",
       "      <td>-401.66</td>\n",
       "      <td>-401.66</td>\n",
       "      <td>-357.24</td>\n",
       "      <td>-443.76</td>\n",
       "      <td>-438.54</td>\n",
       "      <td>-399.71</td>\n",
       "      <td>-384.65</td>\n",
       "      <td>-411.79</td>\n",
       "      <td>-510.54</td>\n",
       "    </tr>\n",
       "  </tbody>\n",
       "</table>\n",
       "<p>5 rows × 3198 columns</p>\n",
       "</div>"
      ],
      "text/plain": [
       "   LABEL   FLUX.1   FLUX.2   FLUX.3   FLUX.4   FLUX.5   FLUX.6  FLUX.7  \\\n",
       "0      2    93.85    83.81    20.10   -26.98   -39.56  -124.71 -135.18   \n",
       "1      2   -38.88   -33.83   -58.54   -40.09   -79.31   -72.81  -86.55   \n",
       "2      2   532.64   535.92   513.73   496.92   456.45   466.00  464.50   \n",
       "3      2   326.52   347.39   302.35   298.13   317.74   312.70  322.33   \n",
       "4      2 -1107.21 -1112.59 -1118.95 -1095.10 -1057.55 -1034.48 -998.34   \n",
       "\n",
       "    FLUX.8  FLUX.9  ...  FLUX.3188  FLUX.3189  FLUX.3190  FLUX.3191  \\\n",
       "0   -96.27  -79.89  ...     -78.07    -102.15    -102.15      25.13   \n",
       "1   -85.33  -83.97  ...      -3.28     -32.21     -32.21     -24.89   \n",
       "2   486.39  436.56  ...     -71.69      13.31      13.31     -29.89   \n",
       "3   311.31  312.42  ...       5.71      -3.73      -3.73      30.05   \n",
       "4 -1022.71 -989.57  ...    -594.37    -401.66    -401.66    -357.24   \n",
       "\n",
       "   FLUX.3192  FLUX.3193  FLUX.3194  FLUX.3195  FLUX.3196  FLUX.3197  \n",
       "0      48.57      92.54      39.32      61.42       5.08     -39.54  \n",
       "1      -4.86       0.76     -11.70       6.46      16.00      19.93  \n",
       "2     -20.88       5.06     -11.80     -28.91     -70.02     -96.67  \n",
       "3      20.03     -12.67      -8.77     -17.31     -17.35      13.98  \n",
       "4    -443.76    -438.54    -399.71    -384.65    -411.79    -510.54  \n",
       "\n",
       "[5 rows x 3198 columns]"
      ]
     },
     "execution_count": 3,
     "metadata": {},
     "output_type": "execute_result"
    }
   ],
   "source": [
    "train_d.head()"
   ]
  },
  {
   "cell_type": "code",
   "execution_count": 4,
   "id": "4d13fe9a",
   "metadata": {},
   "outputs": [
    {
     "data": {
      "text/plain": [
       "(5087, 3198)"
      ]
     },
     "execution_count": 4,
     "metadata": {},
     "output_type": "execute_result"
    }
   ],
   "source": [
    "train_d.shape"
   ]
  },
  {
   "cell_type": "code",
   "execution_count": 5,
   "id": "4288cdce",
   "metadata": {},
   "outputs": [
    {
     "data": {
      "text/plain": [
       "LABEL        0\n",
       "FLUX.1       0\n",
       "FLUX.2       0\n",
       "FLUX.3       0\n",
       "FLUX.4       0\n",
       "            ..\n",
       "FLUX.3193    0\n",
       "FLUX.3194    0\n",
       "FLUX.3195    0\n",
       "FLUX.3196    0\n",
       "FLUX.3197    0\n",
       "Length: 3198, dtype: int64"
      ]
     },
     "execution_count": 5,
     "metadata": {},
     "output_type": "execute_result"
    }
   ],
   "source": [
    "train_d.isnull().sum()"
   ]
  },
  {
   "cell_type": "code",
   "execution_count": 6,
   "id": "de03ace1",
   "metadata": {},
   "outputs": [
    {
     "data": {
      "text/plain": [
       "1    5050\n",
       "2      37\n",
       "Name: LABEL, dtype: int64"
      ]
     },
     "execution_count": 6,
     "metadata": {},
     "output_type": "execute_result"
    }
   ],
   "source": [
    "train_d['LABEL'].value_counts()"
   ]
  },
  {
   "cell_type": "code",
   "execution_count": 7,
   "id": "d31bdee6",
   "metadata": {},
   "outputs": [],
   "source": [
    "categ = {2: 1, 1: 0}\n",
    "train_d.LABEL = [categ[item] for item in train_d.LABEL]"
   ]
  },
  {
   "cell_type": "code",
   "execution_count": 8,
   "id": "8657af56",
   "metadata": {},
   "outputs": [
    {
     "data": {
      "text/plain": [
       "0    5050\n",
       "1      37\n",
       "Name: LABEL, dtype: int64"
      ]
     },
     "execution_count": 8,
     "metadata": {},
     "output_type": "execute_result"
    }
   ],
   "source": [
    "train_d['LABEL'].value_counts()"
   ]
  },
  {
   "cell_type": "code",
   "execution_count": 9,
   "id": "f36cf71e",
   "metadata": {},
   "outputs": [
    {
     "data": {
      "text/plain": [
       "<AxesSubplot:xlabel='LABEL', ylabel='count'>"
      ]
     },
     "execution_count": 9,
     "metadata": {},
     "output_type": "execute_result"
    },
    {
     "data": {
      "image/png": "[encoded data removed]",
      "text/plain": [
       "<Figure size 432x288 with 1 Axes>"
      ]
     },
     "metadata": {
      "needs_background": "light"
     },
     "output_type": "display_data"
    }
   ],
   "source": [
    "sns.countplot(x=train_d['LABEL'])"
   ]
  },
  {
   "cell_type": "code",
   "execution_count": 12,
   "id": "9deb2e4f",
   "metadata": {},
   "outputs": [
    {
     "data": {
      "image/png": "[encoded data removed]",
      "text/plain": [
       "<Figure size 864x576 with 6 Axes>"
      ]
     },
     "metadata": {
      "needs_background": "light"
     },
     "output_type": "display_data"
    }
   ],
   "source": [
    "def stats_plots(train_d):\n",
    "    means = train_d.mean(axis=1)\n",
    "    medians = train_d.median(axis=1)\n",
    "    std = train_d.std(axis=1)\n",
    "    maxval = train_d.max(axis=1)\n",
    "    minval = train_d.min(axis=1)\n",
    "    skew = train_d.skew(axis=1)\n",
    "    fig = plt.figure(figsize=(12,8))\n",
    "    ax = fig.add_subplot(231)\n",
    "    ax.hist(means,alpha=0.8,bins=50)\n",
    "    ax.set_xlabel('Mean Intensity')\n",
    "    ax.set_ylabel('Num. of Stars')\n",
    "    ax = fig.add_subplot(232)\n",
    "    ax.hist(medians,alpha=0.8,bins=50)\n",
    "    ax.set_xlabel('Median Intensity')\n",
    "    ax.set_ylabel('Num. of Stars')\n",
    "    ax = fig.add_subplot(233)\n",
    "    ax.hist(std,alpha=0.8,bins=50)\n",
    "    ax.set_xlabel('Intensity Standard Deviation')\n",
    "    ax.set_ylabel('Num. of Stars')\n",
    "    ax = fig.add_subplot(234)\n",
    "    ax.hist(maxval,alpha=0.8,bins=50)\n",
    "    ax.set_xlabel('Maximum Intensity')\n",
    "    ax.set_ylabel('Num. of Stars')\n",
    "    ax = fig.add_subplot(235)\n",
    "    ax.hist(minval,alpha=0.8,bins=50)\n",
    "    ax.set_xlabel('Minimum Intensity')\n",
    "    ax.set_ylabel('Num. of Stars')\n",
    "    ax = fig.add_subplot(236)\n",
    "    ax.hist(skew,alpha=0.8,bins=50)\n",
    "    ax.set_xlabel('Intensity Skewness')\n",
    "    ax.set_ylabel('Num. of Stars')\n",
    "\n",
    "stats_plots(train_d)\n",
    "plt.show()"
   ]
  },
  {
   "cell_type": "code",
   "execution_count": 13,
   "id": "b88323a0",
   "metadata": {},
   "outputs": [],
   "source": [
    "train_d.drop(train_d[train_d['FLUX.1']>250000].index, axis=0, inplace=True)"
   ]
  },
  {
   "cell_type": "code",
   "execution_count": 14,
   "id": "39de0dc1",
   "metadata": {},
   "outputs": [],
   "source": [
    "x_train = train_d.drop([\"LABEL\"],axis=1)\n",
    "y_train = train_d[\"LABEL\"]"
   ]
  },
  {
   "cell_type": "code",
   "execution_count": 15,
   "id": "d88b55fa",
   "metadata": {},
   "outputs": [],
   "source": [
    "from scipy import ndimage\n",
    "import seaborn as sns\n",
    "from imblearn.over_sampling import SMOTE\n",
    "from sklearn.preprocessing import StandardScaler, normalize\n",
    "from sklearn.model_selection import cross_val_score, train_test_split\n",
    "from sklearn.metrics import recall_score, precision_score, classification_report,accuracy_score,confusion_matrix"
   ]
  },
  {
   "cell_type": "code",
   "execution_count": 16,
   "id": "3211213e",
   "metadata": {},
   "outputs": [],
   "source": [
    "x_train = normalized = normalize(x_train)"
   ]
  },
  {
   "cell_type": "code",
   "execution_count": 17,
   "id": "a52771ef",
   "metadata": {},
   "outputs": [],
   "source": [
    "x_train = filtered = ndimage.filters.gaussian_filter(x_train, sigma=10)"
   ]
  },
  {
   "cell_type": "code",
   "execution_count": 18,
   "id": "67049481",
   "metadata": {},
   "outputs": [],
   "source": [
    "std_scaler = StandardScaler()\n",
    "x_train = scaled = std_scaler.fit_transform(x_train)"
   ]
  },
  {
   "cell_type": "code",
   "execution_count": 19,
   "id": "00b56bb7",
   "metadata": {},
   "outputs": [
    {
     "name": "stdout",
     "output_type": "stream",
     "text": [
      "37\n"
     ]
    }
   ],
   "source": [
    "from sklearn.decomposition import PCA\n",
    "pca = PCA() \n",
    "x_train = pca.fit_transform(x_train)\n",
    "x_train = pca.transform(x_train)\n",
    "total=sum(pca.explained_variance_)\n",
    "k=0\n",
    "current_variance=0\n",
    "while current_variance/total < 0.90:\n",
    "    current_variance += pca.explained_variance_[k]\n",
    "    k=k+1\n",
    "print(k)"
   ]
  },
  {
   "cell_type": "code",
   "execution_count": 20,
   "id": "f5377ac0",
   "metadata": {},
   "outputs": [
    {
     "data": {
      "image/png": "[encoded data removed]",
      "text/plain": [
       "<Figure size 432x288 with 1 Axes>"
      ]
     },
     "metadata": {
      "needs_background": "light"
     },
     "output_type": "display_data"
    }
   ],
   "source": [
    "pca = PCA(n_components=37)\n",
    "x_train = pca.fit_transform(x_train)\n",
    "plt.figure()\n",
    "plt.plot(np.cumsum(pca.explained_variance_ratio_))\n",
    "plt.xlabel('Number of Components')\n",
    "plt.ylabel('Variance (%)') \n",
    "plt.title('Exoplanet Dataset Explained Variance')\n",
    "plt.show()"
   ]
  },
  {
   "cell_type": "code",
   "execution_count": 21,
   "id": "8bf5ff3c",
   "metadata": {},
   "outputs": [
    {
     "data": {
      "text/plain": [
       "<AxesSubplot:xlabel='index'>"
      ]
     },
     "execution_count": 21,
     "metadata": {},
     "output_type": "execute_result"
    },
    {
     "data": {
      "image/png": "[encoded data removed]",
      "text/plain": [
       "<Figure size 432x288 with 1 Axes>"
      ]
     },
     "metadata": {
      "needs_background": "light"
     },
     "output_type": "display_data"
    }
   ],
   "source": [
    "from imblearn.over_sampling import SMOTE\n",
    "model = SMOTE()\n",
    "ov_train_x,ov_train_y = model.fit_resample(train_d.drop('LABEL',axis=1), train_d['LABEL'])\n",
    "ov_train_y = ov_train_y.astype('int')\n",
    "\n",
    "ov_train_y.value_counts().reset_index().plot(kind='bar', x='index', y='LABEL')"
   ]
  },
  {
   "cell_type": "code",
   "execution_count": 22,
   "id": "0499c314",
   "metadata": {},
   "outputs": [],
   "source": [
    "train_X, test_X, train_y, test_y = train_test_split(ov_train_x, ov_train_y, test_size=0.33, random_state=42)"
   ]
  },
  {
   "cell_type": "code",
   "execution_count": 23,
   "id": "9b0ec5a2",
   "metadata": {},
   "outputs": [],
   "source": [
    "test_data = pd.read_csv(\"dataset/exoTest.csv\")"
   ]
  },
  {
   "cell_type": "code",
   "execution_count": 24,
   "id": "78842e42",
   "metadata": {},
   "outputs": [],
   "source": [
    "test_data.LABEL = [categ[item] for item in test_data.LABEL]"
   ]
  },
  {
   "cell_type": "code",
   "execution_count": 25,
   "id": "faacef42",
   "metadata": {},
   "outputs": [
    {
     "data": {
      "text/plain": [
       "(6765, 3197)"
      ]
     },
     "execution_count": 25,
     "metadata": {},
     "output_type": "execute_result"
    }
   ],
   "source": [
    "train_X.shape"
   ]
  },
  {
   "cell_type": "code",
   "execution_count": 26,
   "id": "bd4e6094",
   "metadata": {},
   "outputs": [
    {
     "data": {
      "text/plain": [
       "(570, 3198)"
      ]
     },
     "execution_count": 26,
     "metadata": {},
     "output_type": "execute_result"
    }
   ],
   "source": [
    "test_data.shape"
   ]
  },
  {
   "cell_type": "code",
   "execution_count": 27,
   "id": "548fc74c",
   "metadata": {},
   "outputs": [
    {
     "data": {
      "text/plain": [
       "(3333, 3197)"
      ]
     },
     "execution_count": 27,
     "metadata": {},
     "output_type": "execute_result"
    }
   ],
   "source": [
    "test_X.shape"
   ]
  },
  {
   "cell_type": "code",
   "execution_count": 28,
   "id": "3ff50665",
   "metadata": {},
   "outputs": [],
   "source": [
    "n_features = train_X.shape[1]"
   ]
  },
  {
   "cell_type": "code",
   "execution_count": 29,
   "id": "7323b1cb",
   "metadata": {},
   "outputs": [
    {
     "data": {
      "text/plain": [
       "3197"
      ]
     },
     "execution_count": 29,
     "metadata": {},
     "output_type": "execute_result"
    }
   ],
   "source": [
    "n_features"
   ]
  },
  {
   "cell_type": "code",
   "execution_count": 30,
   "id": "be443454",
   "metadata": {},
   "outputs": [],
   "source": [
    "import keras\n",
    "from keras.layers import *\n",
    "from keras.models import *\n",
    "from tensorflow.keras.layers import Conv1D, MaxPooling1D, Dense, LeakyReLU\n",
    "from tensorflow.keras.layers import Flatten, Activation, BatchNormalization\n",
    "from tensorflow.keras.losses import BinaryCrossentropy\n",
    "from tensorflow.keras import layers\n",
    "import tensorflow as tf"
   ]
  },
  {
   "cell_type": "code",
   "execution_count": 31,
   "id": "e6caec27",
   "metadata": {},
   "outputs": [
    {
     "data": {
      "text/plain": [
       "(6765, 3197)"
      ]
     },
     "execution_count": 31,
     "metadata": {},
     "output_type": "execute_result"
    }
   ],
   "source": [
    "train_X.shape"
   ]
  },
  {
   "cell_type": "code",
   "execution_count": 32,
   "id": "3f321273",
   "metadata": {},
   "outputs": [
    {
     "data": {
      "text/plain": [
       "(3197,)"
      ]
     },
     "execution_count": 32,
     "metadata": {},
     "output_type": "execute_result"
    }
   ],
   "source": [
    "train_X.shape[1:]"
   ]
  },
  {
   "cell_type": "code",
   "execution_count": 33,
   "id": "555eb4ec",
   "metadata": {},
   "outputs": [],
   "source": [
    "model = Sequential()\n",
    "model.add(Conv1D(filters=16, kernel_size=2, activation='relu', input_shape=(3197,1), kernel_regularizer='l2'))\n",
    "model.add(Conv1D(filters=16, kernel_size=2, activation='relu'))\n",
    "model.add(MaxPooling1D(pool_size=2, strides=2))\n",
    "model.add(Dropout(0.2))\n",
    "model.add(Flatten())\n",
    "model.add(Dense(64, activation=\"relu\"))\n",
    "model.add(Dropout(0.4))\n",
    "model.add(Dense(48, activation=\"relu\"))\n",
    "model.add(Dense(18, activation=\"relu\"))\n",
    "model.add(Dense(1, activation=\"sigmoid\"))"
   ]
  },
  {
   "cell_type": "code",
   "execution_count": 34,
   "id": "32c6aae0",
   "metadata": {},
   "outputs": [],
   "source": [
    "x_test, y_test = test_data.drop(columns = ['LABEL']), test_data.loc[:, 'LABEL']"
   ]
  },
  {
   "cell_type": "code",
   "execution_count": 35,
   "id": "787465a5",
   "metadata": {},
   "outputs": [
    {
     "name": "stdout",
     "output_type": "stream",
     "text": [
      "Epoch 1/40\n",
      "43/43 - 13s - loss: 14.6544 - accuracy: 0.5811 - val_loss: 1.6232 - val_accuracy: 0.7310 - 13s/epoch - 295ms/step\n",
      "Epoch 2/40\n",
      "43/43 - 9s - loss: 5.6544 - accuracy: 0.6571 - val_loss: 0.8564 - val_accuracy: 0.8004 - 9s/epoch - 207ms/step\n",
      "Epoch 3/40\n",
      "43/43 - 9s - loss: 9.2137 - accuracy: 0.6816 - val_loss: 2.6892 - val_accuracy: 0.8507 - 9s/epoch - 207ms/step\n",
      "Epoch 4/40\n",
      "43/43 - 9s - loss: 2.6449 - accuracy: 0.7452 - val_loss: 1.9890 - val_accuracy: 0.8115 - 9s/epoch - 202ms/step\n",
      "Epoch 5/40\n",
      "43/43 - 9s - loss: 3.3102 - accuracy: 0.7465 - val_loss: 3.4978 - val_accuracy: 0.9327 - 9s/epoch - 200ms/step\n",
      "Epoch 6/40\n",
      "43/43 - 9s - loss: 1.4160 - accuracy: 0.8001 - val_loss: 0.3218 - val_accuracy: 0.9497 - 9s/epoch - 203ms/step\n",
      "Epoch 7/40\n",
      "43/43 - 9s - loss: 1.7210 - accuracy: 0.8226 - val_loss: 0.8079 - val_accuracy: 0.9446 - 9s/epoch - 203ms/step\n",
      "Epoch 8/40\n",
      "43/43 - 9s - loss: 1.4500 - accuracy: 0.8160 - val_loss: 0.2226 - val_accuracy: 0.9653 - 9s/epoch - 201ms/step\n",
      "Epoch 9/40\n",
      "43/43 - 9s - loss: 2.2157 - accuracy: 0.8306 - val_loss: 0.2748 - val_accuracy: 0.8877 - 9s/epoch - 203ms/step\n",
      "Epoch 10/40\n",
      "43/43 - 9s - loss: 0.7656 - accuracy: 0.8562 - val_loss: 0.2006 - val_accuracy: 0.9749 - 9s/epoch - 204ms/step\n",
      "Epoch 11/40\n",
      "43/43 - 9s - loss: 0.7612 - accuracy: 0.8718 - val_loss: 0.1567 - val_accuracy: 0.9734 - 9s/epoch - 203ms/step\n",
      "Epoch 12/40\n",
      "43/43 - 9s - loss: 0.6725 - accuracy: 0.8980 - val_loss: 0.1353 - val_accuracy: 0.9830 - 9s/epoch - 203ms/step\n",
      "Epoch 13/40\n",
      "43/43 - 9s - loss: 0.5089 - accuracy: 0.9026 - val_loss: 0.1165 - val_accuracy: 0.9867 - 9s/epoch - 207ms/step\n",
      "Epoch 14/40\n",
      "43/43 - 9s - loss: 0.9340 - accuracy: 0.8949 - val_loss: 0.1537 - val_accuracy: 0.9786 - 9s/epoch - 202ms/step\n",
      "Epoch 15/40\n",
      "43/43 - 9s - loss: 3.6128 - accuracy: 0.8577 - val_loss: 0.1855 - val_accuracy: 0.9660 - 9s/epoch - 198ms/step\n",
      "Epoch 16/40\n",
      "43/43 - 9s - loss: 0.5584 - accuracy: 0.9076 - val_loss: 0.1247 - val_accuracy: 0.9911 - 9s/epoch - 203ms/step\n",
      "Epoch 17/40\n",
      "43/43 - 9s - loss: 0.4303 - accuracy: 0.9307 - val_loss: 1.0494 - val_accuracy: 0.9926 - 9s/epoch - 207ms/step\n",
      "Epoch 18/40\n",
      "43/43 - 9s - loss: 0.3193 - accuracy: 0.9455 - val_loss: 0.5133 - val_accuracy: 0.9911 - 9s/epoch - 202ms/step\n",
      "Epoch 19/40\n",
      "43/43 - 9s - loss: 0.8637 - accuracy: 0.9229 - val_loss: 0.1037 - val_accuracy: 0.9911 - 9s/epoch - 210ms/step\n",
      "Epoch 20/40\n",
      "43/43 - 9s - loss: 0.6823 - accuracy: 0.9405 - val_loss: 1.5880 - val_accuracy: 0.9919 - 9s/epoch - 201ms/step\n",
      "Epoch 21/40\n",
      "43/43 - 9s - loss: 0.4208 - accuracy: 0.9353 - val_loss: 1.4540 - val_accuracy: 0.9919 - 9s/epoch - 199ms/step\n",
      "Epoch 22/40\n",
      "43/43 - 9s - loss: 0.5173 - accuracy: 0.9387 - val_loss: 0.6306 - val_accuracy: 0.9941 - 9s/epoch - 198ms/step\n",
      "Epoch 23/40\n",
      "43/43 - 9s - loss: 0.6738 - accuracy: 0.9451 - val_loss: 2.5577 - val_accuracy: 0.9919 - 9s/epoch - 201ms/step\n",
      "Epoch 24/40\n",
      "43/43 - 9s - loss: 0.6290 - accuracy: 0.9353 - val_loss: 0.9468 - val_accuracy: 0.9860 - 9s/epoch - 202ms/step\n",
      "Epoch 25/40\n",
      "43/43 - 9s - loss: 0.3835 - accuracy: 0.9451 - val_loss: 0.7461 - val_accuracy: 0.9919 - 9s/epoch - 203ms/step\n",
      "Epoch 26/40\n",
      "43/43 - 9s - loss: 0.3735 - accuracy: 0.9527 - val_loss: 1.2433 - val_accuracy: 0.9897 - 9s/epoch - 201ms/step\n",
      "212/212 - 3s - loss: 0.1052 - accuracy: 0.9926 - 3s/epoch - 16ms/step\n",
      "105/105 - 2s - loss: 0.1649 - accuracy: 0.9916 - 2s/epoch - 17ms/step\n"
     ]
    }
   ],
   "source": [
    "from tensorflow.keras.optimizers import Adam\n",
    "from keras.callbacks import EarlyStopping\n",
    "from keras.models import load_model\n",
    "#from itertools import chain\n",
    "model.compile(optimizer = Adam(4e-5), loss='binary_crossentropy', metrics=['accuracy'])\n",
    "\n",
    "    # Fit model\n",
    "early_stop = EarlyStopping(monitor='val_loss', patience=7, restore_best_weights=True)\n",
    "history = model.fit(train_X, train_y, validation_split = 0.2, batch_size=128, callbacks=[early_stop], epochs=40, verbose=2)\n",
    "\n",
    "    # Evaluate the model\n",
    "train_acc = model.evaluate(train_X, train_y, verbose=2)\n",
    "test_acc = model.evaluate(test_X, test_y, verbose=2)"
   ]
  },
  {
   "cell_type": "code",
   "execution_count": 36,
   "id": "64a24ae8",
   "metadata": {},
   "outputs": [],
   "source": [
    "def prediction_metrics(y_test, y_pred, y_class_pred, matrix):\n",
    "    FP = matrix[0][1] \n",
    "    FN = matrix[1][0]\n",
    "    TP = matrix[1][1]\n",
    "    TN = matrix[0][0]\n",
    "\n",
    "    sens = TP/(TP+FN)\n",
    "    spec = TN/(TN+FP) \n",
    "    g_mean = np.sqrt(sens * spec)\n",
    "\n",
    "    accuracy = accuracy_score(y_test, y_class_pred)\n",
    "    balanced_accuracy = balanced_accuracy_score(y_test, y_class_pred)\n",
    "    precision = precision_score(y_test, y_class_pred)\n",
    "    recall = recall_score(y_test, y_class_pred)\n",
    "    f1 = f1_score(y_test, y_class_pred)\n",
    "    auc = roc_auc_score(y_test, y_pred)\n",
    "\n",
    "    print('\\t\\t Prediction Metrics\\n')\n",
    "    print(\"Accuracy:\\t\", \"{:0.3f}\".format(accuracy))\n",
    "    print(\"Precision:\\t\", \"{:0.3f}\".format(precision))\n",
    "    print(\"Recall:\\t\\t\", \"{:0.3f}\".format(recall))\n",
    "    print(\"\\nF1 Score:\\t\", \"{:0.3f}\".format(f1))\n",
    "    print(\"ROC AUC:\\t\", \"{:0.3f}\".format(auc))\n",
    "    print(\"Balanced\\nAccuracy:\\t\", \"{:0.3f}\".format(balanced_accuracy))\n",
    "    print(\"\\nSensitivity:\\t\", \"{:0.3f}\".format(sens))\n",
    "    print(\"Specificity:\\t\", \"{:0.3f}\".format(spec))\n",
    "    print(\"Geometric Mean:\\t\", \"{:0.3f}\".format(g_mean))"
   ]
  },
  {
   "cell_type": "code",
   "execution_count": 37,
   "id": "917d31ea",
   "metadata": {},
   "outputs": [],
   "source": [
    "def conf_matrix(y_test, y_pred):\n",
    "\n",
    "    matrix = confusion_matrix(y_test, y_pred)\n",
    "    df_cm = pd.DataFrame(matrix, columns=[0, 1], index = [0, 1])\n",
    "    df_cm.index.name = 'Truth'\n",
    "    df_cm.columns.name = 'Predicted'\n",
    "    plt.figure(figsize = (10,7))\n",
    "    sns.set(font_scale=1.4) \n",
    "    sns.heatmap(df_cm, cmap=\"BuGn\", annot=True, annot_kws={\"size\": 16})\n",
    "    plt.show()\n",
    "    \n",
    "    return matrix"
   ]
  },
  {
   "cell_type": "code",
   "execution_count": 38,
   "id": "a5a703bb",
   "metadata": {},
   "outputs": [],
   "source": [
    "def graph_acc(history):\n",
    "    # Plot loss during training\n",
    "    plt.subplot(211)\n",
    "    plt.title('Loss')\n",
    "    plt.plot(history.history['loss'], label='train')\n",
    "    plt.plot(history.history['val_loss'], label='test')\n",
    "    plt.legend()\n",
    "\n",
    "    # Plot accuracy during training\n",
    "    plt.subplot(212)\n",
    "    plt.title('Accuracy')\n",
    "    plt.plot(history.history['accuracy'], label='train')\n",
    "    plt.plot(history.history['val_accuracy'], label='test')\n",
    "    plt.legend()\n",
    "    plt.show()"
   ]
  },
  {
   "cell_type": "code",
   "execution_count": 39,
   "id": "7284dd71",
   "metadata": {},
   "outputs": [],
   "source": [
    "from sklearn.metrics import classification_report\n",
    "from sklearn.metrics import accuracy_score\n",
    "from sklearn.metrics import balanced_accuracy_score\n",
    "from sklearn.metrics import roc_auc_score\n",
    "from sklearn.metrics import precision_score\n",
    "from sklearn.metrics import recall_score\n",
    "from sklearn.metrics import f1_score"
   ]
  },
  {
   "cell_type": "code",
   "execution_count": 40,
   "id": "f7820287",
   "metadata": {},
   "outputs": [
    {
     "data": {
      "image/png": "[encoded data removed]",
      "text/plain": [
       "<Figure size 432x288 with 2 Axes>"
      ]
     },
     "metadata": {
      "needs_background": "light"
     },
     "output_type": "display_data"
    },
    {
     "data": {
      "image/png": "[encoded data removed]",
      "text/plain": [
       "<Figure size 720x504 with 2 Axes>"
      ]
     },
     "metadata": {
      "needs_background": "light"
     },
     "output_type": "display_data"
    },
    {
     "name": "stdout",
     "output_type": "stream",
     "text": [
      "\t\t Prediction Metrics\n",
      "\n",
      "Accuracy:\t 0.992\n",
      "Precision:\t 0.988\n",
      "Recall:\t\t 0.995\n",
      "\n",
      "F1 Score:\t 0.991\n",
      "ROC AUC:\t 0.995\n",
      "Balanced\n",
      "Accuracy:\t 0.992\n",
      "\n",
      "Sensitivity:\t 0.995\n",
      "Specificity:\t 0.988\n",
      "Geometric Mean:\t 0.992\n"
     ]
    }
   ],
   "source": [
    "y_class_pred = (model.predict(test_X) > 0.5).astype(\"int32\")\n",
    "y_pred = model.predict(test_X)\n",
    "\n",
    "    # Accuracy graph\n",
    "graph_acc(history)\n",
    "\n",
    "    # Confustion matrix\n",
    "matrix = conf_matrix(test_y, y_class_pred)\n",
    "\n",
    "    # Metrics\n",
    "prediction_metrics(test_y, y_pred, y_class_pred, matrix)"
   ]
  },
  {
   "cell_type": "code",
   "execution_count": 41,
   "id": "7d868888",
   "metadata": {},
   "outputs": [
    {
     "data": {
      "image/png": "[encoded data removed]",
      "text/plain": [
       "<Figure size 432x288 with 2 Axes>"
      ]
     },
     "metadata": {},
     "output_type": "display_data"
    },
    {
     "data": {
      "image/png": "[encoded data removed]",
      "text/plain": [
       "<Figure size 720x504 with 2 Axes>"
      ]
     },
     "metadata": {},
     "output_type": "display_data"
    },
    {
     "name": "stdout",
     "output_type": "stream",
     "text": [
      "\t\t Prediction Metrics\n",
      "\n",
      "Accuracy:\t 0.988\n",
      "Precision:\t 0.250\n",
      "Recall:\t\t 0.200\n",
      "\n",
      "F1 Score:\t 0.222\n",
      "ROC AUC:\t 0.553\n",
      "Balanced\n",
      "Accuracy:\t 0.597\n",
      "\n",
      "Sensitivity:\t 0.200\n",
      "Specificity:\t 0.995\n",
      "Geometric Mean:\t 0.446\n"
     ]
    }
   ],
   "source": [
    "y_class_pred = (model.predict(x_test) > 0.5).astype(\"int32\")\n",
    "y_pred = model.predict(x_test)\n",
    "\n",
    "    # Accuracy graph\n",
    "graph_acc(history)\n",
    "\n",
    "    # Confustion matrix\n",
    "matrix = conf_matrix(y_test, y_class_pred)\n",
    "\n",
    "    # Metrics\n",
    "prediction_metrics(y_test, y_pred, y_class_pred, matrix)"
   ]
  },
  {
   "cell_type": "code",
   "execution_count": 42,
   "id": "21fbdacd",
   "metadata": {},
   "outputs": [],
   "source": [
    "_, accuracy = model.evaluate(x_test, y_test, batch_size=2048, verbose=0)"
   ]
  },
  {
   "cell_type": "code",
   "execution_count": 43,
   "id": "c8d3847a",
   "metadata": {},
   "outputs": [],
   "source": [
    "_, ay = model.evaluate(test_X, test_y, batch_size=2048, verbose=0)"
   ]
  },
  {
   "cell_type": "code",
   "execution_count": 44,
   "id": "ae7f18a6",
   "metadata": {},
   "outputs": [
    {
     "data": {
      "text/plain": [
       "0.9915991425514221"
      ]
     },
     "execution_count": 44,
     "metadata": {},
     "output_type": "execute_result"
    }
   ],
   "source": [
    "ay"
   ]
  },
  {
   "cell_type": "code",
   "execution_count": 45,
   "id": "9a63f7c0",
   "metadata": {},
   "outputs": [
    {
     "data": {
      "text/plain": [
       "0.9877192974090576"
      ]
     },
     "execution_count": 45,
     "metadata": {},
     "output_type": "execute_result"
    }
   ],
   "source": [
    "accuracy"
   ]
  },
  {
   "cell_type": "code",
   "execution_count": 46,
   "id": "0b734310",
   "metadata": {},
   "outputs": [
    {
     "data": {
      "text/plain": [
       "98.77192974090576"
      ]
     },
     "execution_count": 46,
     "metadata": {},
     "output_type": "execute_result"
    }
   ],
   "source": [
    "score = accuracy * 100.0\n",
    "score"
   ]
  },
  {
   "cell_type": "code",
   "execution_count": 47,
   "id": "38ba19a9",
   "metadata": {},
   "outputs": [
    {
     "data": {
      "text/plain": [
       "(3333,)"
      ]
     },
     "execution_count": 47,
     "metadata": {},
     "output_type": "execute_result"
    }
   ],
   "source": [
    "test_y.shape"
   ]
  },
  {
   "cell_type": "code",
   "execution_count": 48,
   "id": "c116b5d4",
   "metadata": {},
   "outputs": [],
   "source": [
    "pred = model.predict(x_test)"
   ]
  },
  {
   "cell_type": "code",
   "execution_count": 49,
   "id": "c77ff309",
   "metadata": {},
   "outputs": [
    {
     "data": {
      "text/plain": [
       "array([[5.72635829e-01],\n",
       "       [8.16922494e-08],\n",
       "       [2.36945152e-02],\n",
       "       [1.48055801e-09],\n",
       "       [4.72079949e-13],\n",
       "       [8.54573846e-02],\n",
       "       [9.83694804e-07],\n",
       "       [6.43014908e-04],\n",
       "       [1.69332066e-11],\n",
       "       [1.88372280e-06],\n",
       "       [9.58539295e-06],\n",
       "       [2.65663829e-07],\n",
       "       [1.05181336e-01],\n",
       "       [5.81684834e-09],\n",
       "       [1.76918206e-06],\n",
       "       [6.41106367e-02],\n",
       "       [1.23888254e-04],\n",
       "       [1.43428743e-02],\n",
       "       [3.93823087e-02],\n",
       "       [6.77040219e-03],\n",
       "       [6.24290109e-03],\n",
       "       [0.00000000e+00],\n",
       "       [2.50791609e-02],\n",
       "       [7.43353367e-03],\n",
       "       [3.84232402e-03],\n",
       "       [6.11054904e-15],\n",
       "       [9.31734443e-02],\n",
       "       [1.88469887e-04],\n",
       "       [2.87101398e-10],\n",
       "       [8.70436430e-04],\n",
       "       [1.69749583e-07],\n",
       "       [7.07704127e-02],\n",
       "       [1.88555121e-02],\n",
       "       [2.35259533e-03],\n",
       "       [6.59127730e-09],\n",
       "       [1.58270987e-12],\n",
       "       [4.47428138e-05],\n",
       "       [0.00000000e+00],\n",
       "       [1.59383416e-01],\n",
       "       [4.99935986e-08],\n",
       "       [5.39823958e-12],\n",
       "       [3.88036072e-02],\n",
       "       [2.58444543e-05],\n",
       "       [5.04197658e-07],\n",
       "       [1.11809343e-01],\n",
       "       [6.86266720e-02],\n",
       "       [4.30467308e-01],\n",
       "       [1.58802152e-01],\n",
       "       [1.05777979e-01],\n",
       "       [2.94980407e-02],\n",
       "       [6.00351393e-02],\n",
       "       [0.00000000e+00],\n",
       "       [1.45411638e-09],\n",
       "       [3.51764664e-25],\n",
       "       [3.88564831e-12],\n",
       "       [5.23951054e-02],\n",
       "       [3.13848257e-04],\n",
       "       [1.00496620e-01],\n",
       "       [1.85123295e-01],\n",
       "       [9.84106188e-23],\n",
       "       [7.00207949e-02],\n",
       "       [2.38879323e-01],\n",
       "       [1.31406486e-02],\n",
       "       [9.11767088e-08],\n",
       "       [0.00000000e+00],\n",
       "       [4.48972651e-06],\n",
       "       [3.41420281e-10],\n",
       "       [0.00000000e+00],\n",
       "       [1.02008300e-06],\n",
       "       [1.77794914e-11],\n",
       "       [4.99308109e-04],\n",
       "       [2.27062666e-17],\n",
       "       [9.67011138e-10],\n",
       "       [2.69000232e-02],\n",
       "       [3.42145562e-02],\n",
       "       [0.00000000e+00],\n",
       "       [4.45408523e-02],\n",
       "       [0.00000000e+00],\n",
       "       [1.13881528e-02],\n",
       "       [2.96684504e-02],\n",
       "       [1.56596333e-01],\n",
       "       [4.42024485e-29],\n",
       "       [2.36441835e-07],\n",
       "       [3.93470824e-02],\n",
       "       [4.69773472e-16],\n",
       "       [9.25832987e-03],\n",
       "       [1.19069219e-03],\n",
       "       [0.00000000e+00],\n",
       "       [8.72147381e-02],\n",
       "       [9.99999642e-01],\n",
       "       [6.90534478e-17],\n",
       "       [1.64694519e-34],\n",
       "       [7.01493025e-03],\n",
       "       [1.64689422e-02],\n",
       "       [3.15658152e-02],\n",
       "       [8.30700099e-02],\n",
       "       [6.25856984e-08],\n",
       "       [5.55389524e-02],\n",
       "       [2.08256324e-06],\n",
       "       [5.19558489e-02],\n",
       "       [4.76415589e-05],\n",
       "       [2.27600336e-04],\n",
       "       [3.82328033e-02],\n",
       "       [2.00603853e-10],\n",
       "       [0.00000000e+00],\n",
       "       [2.13625729e-02],\n",
       "       [3.79315163e-10],\n",
       "       [2.41056681e-02],\n",
       "       [9.24378932e-02],\n",
       "       [3.90549509e-23],\n",
       "       [3.91702545e-17],\n",
       "       [3.20135222e-13],\n",
       "       [6.52087629e-02],\n",
       "       [5.67480922e-03],\n",
       "       [0.00000000e+00],\n",
       "       [3.46955239e-05],\n",
       "       [2.62453687e-12],\n",
       "       [2.67247060e-08],\n",
       "       [3.53930891e-02],\n",
       "       [1.12705827e-02],\n",
       "       [0.00000000e+00],\n",
       "       [1.58072412e-02],\n",
       "       [1.57640216e-07],\n",
       "       [2.07117498e-02],\n",
       "       [0.00000000e+00],\n",
       "       [8.42164663e-05],\n",
       "       [2.14546919e-04],\n",
       "       [2.18519304e-07],\n",
       "       [2.34771681e-11],\n",
       "       [1.70917124e-01],\n",
       "       [7.92226195e-03],\n",
       "       [2.34875083e-03],\n",
       "       [0.00000000e+00],\n",
       "       [2.82082558e-02],\n",
       "       [1.29286200e-01],\n",
       "       [3.25161219e-03],\n",
       "       [0.00000000e+00],\n",
       "       [0.00000000e+00],\n",
       "       [0.00000000e+00],\n",
       "       [0.00000000e+00],\n",
       "       [4.69447672e-02],\n",
       "       [2.87839522e-13],\n",
       "       [9.68315135e-08],\n",
       "       [1.40870810e-01],\n",
       "       [5.60938418e-02],\n",
       "       [3.56782396e-18],\n",
       "       [2.10680997e-29],\n",
       "       [0.00000000e+00],\n",
       "       [0.00000000e+00],\n",
       "       [3.82282734e-02],\n",
       "       [0.00000000e+00],\n",
       "       [1.12867236e-01],\n",
       "       [1.65714025e-02],\n",
       "       [1.56467991e-06],\n",
       "       [1.69113186e-08],\n",
       "       [8.93315971e-02],\n",
       "       [2.11433544e-05],\n",
       "       [2.21329033e-02],\n",
       "       [9.12278295e-02],\n",
       "       [4.03938293e-02],\n",
       "       [7.28721439e-09],\n",
       "       [0.00000000e+00],\n",
       "       [3.92216146e-02],\n",
       "       [5.54178990e-13],\n",
       "       [0.00000000e+00],\n",
       "       [1.34515232e-18],\n",
       "       [7.62379169e-03],\n",
       "       [2.79166288e-05],\n",
       "       [1.35722160e-02],\n",
       "       [4.58931122e-25],\n",
       "       [1.11747879e-25],\n",
       "       [1.49557877e-08],\n",
       "       [3.30720544e-02],\n",
       "       [7.61469501e-13],\n",
       "       [5.73910752e-10],\n",
       "       [0.00000000e+00],\n",
       "       [7.68800676e-02],\n",
       "       [1.22012556e-01],\n",
       "       [6.03809808e-13],\n",
       "       [2.66847142e-16],\n",
       "       [1.15023661e-25],\n",
       "       [9.86826930e-25],\n",
       "       [9.70934331e-02],\n",
       "       [4.24187892e-32],\n",
       "       [3.89143707e-14],\n",
       "       [9.99319434e-01],\n",
       "       [5.34510079e-14],\n",
       "       [7.61411556e-09],\n",
       "       [4.03445959e-03],\n",
       "       [1.18124044e-11],\n",
       "       [2.23529339e-02],\n",
       "       [5.24700665e-11],\n",
       "       [1.32784500e-31],\n",
       "       [3.53295452e-15],\n",
       "       [2.31223947e-08],\n",
       "       [5.01139408e-10],\n",
       "       [1.92032456e-02],\n",
       "       [2.88268030e-02],\n",
       "       [6.94771409e-02],\n",
       "       [1.15553554e-07],\n",
       "       [4.03153135e-05],\n",
       "       [4.74920273e-02],\n",
       "       [1.70339912e-01],\n",
       "       [7.73944259e-02],\n",
       "       [2.28862464e-02],\n",
       "       [1.53894780e-15],\n",
       "       [7.40587711e-04],\n",
       "       [6.53230117e-36],\n",
       "       [2.39279866e-03],\n",
       "       [2.13875209e-13],\n",
       "       [4.05870848e-09],\n",
       "       [2.58051157e-02],\n",
       "       [1.18467033e-01],\n",
       "       [4.23223435e-11],\n",
       "       [5.19550741e-02],\n",
       "       [9.02956426e-02],\n",
       "       [2.04483121e-18],\n",
       "       [8.05360079e-03],\n",
       "       [8.19490688e-13],\n",
       "       [1.41692191e-01],\n",
       "       [3.12906296e-19],\n",
       "       [9.39339399e-04],\n",
       "       [0.00000000e+00],\n",
       "       [3.13054621e-02],\n",
       "       [3.17407199e-20],\n",
       "       [1.68995559e-02],\n",
       "       [1.09729171e-02],\n",
       "       [1.26800339e-27],\n",
       "       [6.93833530e-02],\n",
       "       [1.22747093e-04],\n",
       "       [0.00000000e+00],\n",
       "       [7.94079900e-03],\n",
       "       [1.94799697e-11],\n",
       "       [2.00665634e-12],\n",
       "       [1.05728629e-31],\n",
       "       [4.48476285e-17],\n",
       "       [2.71679401e-01],\n",
       "       [5.02719879e-02],\n",
       "       [9.62793827e-03],\n",
       "       [7.88771212e-02],\n",
       "       [8.36659670e-02],\n",
       "       [1.12541616e-02],\n",
       "       [8.90247251e-11],\n",
       "       [1.41798556e-02],\n",
       "       [7.13620484e-02],\n",
       "       [0.00000000e+00],\n",
       "       [7.86778795e-18],\n",
       "       [4.17056680e-03],\n",
       "       [7.02905953e-02],\n",
       "       [1.35114593e-11],\n",
       "       [8.70584892e-35],\n",
       "       [0.00000000e+00],\n",
       "       [6.56169653e-03],\n",
       "       [8.18354189e-02],\n",
       "       [7.71237016e-02],\n",
       "       [1.15306591e-06],\n",
       "       [1.36467270e-12],\n",
       "       [2.24306881e-02],\n",
       "       [0.00000000e+00],\n",
       "       [5.99465668e-02],\n",
       "       [1.29729509e-04],\n",
       "       [2.82057226e-02],\n",
       "       [0.00000000e+00],\n",
       "       [0.00000000e+00],\n",
       "       [0.00000000e+00],\n",
       "       [1.12422589e-25],\n",
       "       [5.38980067e-02],\n",
       "       [2.27015571e-05],\n",
       "       [1.54377937e-01],\n",
       "       [0.00000000e+00],\n",
       "       [6.78265989e-02],\n",
       "       [3.15527965e-10],\n",
       "       [9.17829166e-05],\n",
       "       [2.26436498e-07],\n",
       "       [6.52637184e-02],\n",
       "       [3.77979577e-02],\n",
       "       [4.19063135e-12],\n",
       "       [1.51966710e-15],\n",
       "       [1.77225132e-07],\n",
       "       [4.85847765e-14],\n",
       "       [1.10909252e-23],\n",
       "       [1.16236762e-08],\n",
       "       [3.28679195e-09],\n",
       "       [7.07426921e-07],\n",
       "       [6.62267212e-06],\n",
       "       [1.77207519e-11],\n",
       "       [3.46290108e-07],\n",
       "       [2.76010048e-10],\n",
       "       [2.01758742e-03],\n",
       "       [1.07212607e-10],\n",
       "       [8.43114257e-02],\n",
       "       [4.21365467e-25],\n",
       "       [7.17031339e-12],\n",
       "       [2.92124152e-02],\n",
       "       [1.64282903e-19],\n",
       "       [1.66707337e-02],\n",
       "       [7.01351144e-10],\n",
       "       [2.59781034e-17],\n",
       "       [2.25148487e-08],\n",
       "       [5.59319556e-02],\n",
       "       [6.95050706e-14],\n",
       "       [1.51341517e-09],\n",
       "       [6.59365356e-02],\n",
       "       [1.58917010e-02],\n",
       "       [7.82382562e-17],\n",
       "       [1.08298033e-01],\n",
       "       [3.27960849e-02],\n",
       "       [6.31375611e-02],\n",
       "       [2.33752479e-11],\n",
       "       [1.22436881e-03],\n",
       "       [0.00000000e+00],\n",
       "       [2.77575552e-02],\n",
       "       [0.00000000e+00],\n",
       "       [1.44015346e-23],\n",
       "       [4.72247601e-04],\n",
       "       [1.57303035e-01],\n",
       "       [3.62189114e-02],\n",
       "       [3.84884775e-02],\n",
       "       [5.37911005e-09],\n",
       "       [1.28768415e-12],\n",
       "       [1.10799104e-01],\n",
       "       [1.44875348e-02],\n",
       "       [1.86029702e-28],\n",
       "       [5.96650794e-18],\n",
       "       [1.83450926e-08],\n",
       "       [5.77347770e-08],\n",
       "       [1.50154129e-19],\n",
       "       [6.13860488e-02],\n",
       "       [1.60704872e-08],\n",
       "       [8.89610019e-05],\n",
       "       [6.63248003e-02],\n",
       "       [1.84836984e-03],\n",
       "       [2.48809049e-35],\n",
       "       [3.16477933e-32],\n",
       "       [6.38610436e-05],\n",
       "       [6.80387020e-04],\n",
       "       [7.17008114e-03],\n",
       "       [1.30177513e-08],\n",
       "       [3.15218500e-08],\n",
       "       [3.54268445e-06],\n",
       "       [2.40314396e-22],\n",
       "       [9.80021469e-33],\n",
       "       [2.87389457e-02],\n",
       "       [5.81200214e-24],\n",
       "       [5.30645948e-14],\n",
       "       [2.07383037e-02],\n",
       "       [1.41212417e-18],\n",
       "       [7.34975708e-37],\n",
       "       [5.29524684e-03],\n",
       "       [7.23494145e-33],\n",
       "       [0.00000000e+00],\n",
       "       [8.01882744e-02],\n",
       "       [5.03112960e-26],\n",
       "       [6.09188614e-29],\n",
       "       [1.03849985e-07],\n",
       "       [6.97793663e-02],\n",
       "       [1.30678117e-02],\n",
       "       [5.17696142e-04],\n",
       "       [1.32516325e-02],\n",
       "       [3.93765867e-02],\n",
       "       [1.00000000e+00],\n",
       "       [3.22950217e-13],\n",
       "       [2.37905723e-20],\n",
       "       [2.79903652e-05],\n",
       "       [4.38164858e-14],\n",
       "       [3.39847803e-03],\n",
       "       [9.30401683e-03],\n",
       "       [0.00000000e+00],\n",
       "       [0.00000000e+00],\n",
       "       [6.04340744e-10],\n",
       "       [1.00680143e-01],\n",
       "       [7.24846125e-02],\n",
       "       [0.00000000e+00],\n",
       "       [2.68279910e-02],\n",
       "       [8.93764417e-25],\n",
       "       [3.68191898e-02],\n",
       "       [5.50817549e-02],\n",
       "       [4.80673569e-16],\n",
       "       [3.07591558e-02],\n",
       "       [5.60227931e-02],\n",
       "       [8.60985219e-02],\n",
       "       [5.88395894e-02],\n",
       "       [1.92020241e-13],\n",
       "       [1.56295141e-06],\n",
       "       [1.75856352e-02],\n",
       "       [2.96922326e-02],\n",
       "       [9.67604064e-16],\n",
       "       [1.17522821e-12],\n",
       "       [3.83643806e-02],\n",
       "       [3.00081074e-02],\n",
       "       [5.47539294e-02],\n",
       "       [8.64894688e-02],\n",
       "       [4.39137220e-04],\n",
       "       [1.91301107e-04],\n",
       "       [1.05626338e-14],\n",
       "       [2.96571466e-06],\n",
       "       [5.70659437e-16],\n",
       "       [1.35460141e-18],\n",
       "       [3.81566584e-02],\n",
       "       [5.01475341e-31],\n",
       "       [5.11745663e-27],\n",
       "       [2.77659297e-03],\n",
       "       [6.31473231e-05],\n",
       "       [1.67593388e-08],\n",
       "       [2.16827095e-02],\n",
       "       [1.14822090e-02],\n",
       "       [1.51534443e-28],\n",
       "       [3.74200940e-03],\n",
       "       [7.31280148e-02],\n",
       "       [2.30414271e-02],\n",
       "       [8.32118690e-02],\n",
       "       [4.40157056e-02],\n",
       "       [1.00660324e-02],\n",
       "       [8.33755434e-02],\n",
       "       [5.22640471e-17],\n",
       "       [0.00000000e+00],\n",
       "       [8.28753412e-02],\n",
       "       [0.00000000e+00],\n",
       "       [7.17222691e-02],\n",
       "       [0.00000000e+00],\n",
       "       [1.88916922e-04],\n",
       "       [1.17427431e-26],\n",
       "       [1.39305403e-05],\n",
       "       [3.83000520e-09],\n",
       "       [7.15588629e-02],\n",
       "       [7.27385283e-04],\n",
       "       [4.35352325e-04],\n",
       "       [1.02524757e-02],\n",
       "       [1.56638324e-02],\n",
       "       [4.21133708e-34],\n",
       "       [8.68710876e-03],\n",
       "       [4.12189960e-03],\n",
       "       [1.47064239e-01],\n",
       "       [0.00000000e+00],\n",
       "       [3.71522951e-12],\n",
       "       [9.40423517e-10],\n",
       "       [1.51997100e-12],\n",
       "       [4.15448844e-02],\n",
       "       [2.23202705e-02],\n",
       "       [5.62829077e-02],\n",
       "       [7.76018798e-02],\n",
       "       [3.37954407e-06],\n",
       "       [1.59293413e-04],\n",
       "       [1.65388882e-02],\n",
       "       [1.35253465e-20],\n",
       "       [0.00000000e+00],\n",
       "       [8.47429037e-04],\n",
       "       [1.09379826e-16],\n",
       "       [0.00000000e+00],\n",
       "       [5.28653860e-02],\n",
       "       [4.65058683e-18],\n",
       "       [5.55768609e-03],\n",
       "       [8.55260491e-02],\n",
       "       [4.12273160e-10],\n",
       "       [0.00000000e+00],\n",
       "       [8.34766030e-03],\n",
       "       [3.36801963e-15],\n",
       "       [4.21831310e-02],\n",
       "       [4.47644889e-02],\n",
       "       [0.00000000e+00],\n",
       "       [0.00000000e+00],\n",
       "       [7.76196420e-02],\n",
       "       [2.74615758e-07],\n",
       "       [6.24613001e-16],\n",
       "       [2.92280132e-33],\n",
       "       [4.55419123e-02],\n",
       "       [1.05788261e-01],\n",
       "       [1.76382661e-02],\n",
       "       [1.68144040e-20],\n",
       "       [7.74479806e-02],\n",
       "       [6.75658071e-11],\n",
       "       [1.97048871e-06],\n",
       "       [5.25887907e-02],\n",
       "       [1.32680535e-02],\n",
       "       [2.07348264e-10],\n",
       "       [5.94745576e-02],\n",
       "       [1.31953531e-10],\n",
       "       [9.30279195e-02],\n",
       "       [3.95511687e-02],\n",
       "       [7.78734684e-04],\n",
       "       [5.34072484e-08],\n",
       "       [7.69048929e-04],\n",
       "       [6.43891096e-03],\n",
       "       [6.02878928e-02],\n",
       "       [3.20711136e-02],\n",
       "       [0.00000000e+00],\n",
       "       [9.25451105e-11],\n",
       "       [1.32196448e-07],\n",
       "       [1.59255708e-35],\n",
       "       [1.06512904e-04],\n",
       "       [1.29081011e-02],\n",
       "       [8.26385021e-02],\n",
       "       [5.73663712e-02],\n",
       "       [6.99947105e-16],\n",
       "       [2.68805027e-03],\n",
       "       [2.72971148e-23],\n",
       "       [4.52206605e-10],\n",
       "       [3.12373340e-02],\n",
       "       [3.55257940e-29],\n",
       "       [3.46485021e-20],\n",
       "       [4.35756445e-02],\n",
       "       [3.47454250e-02],\n",
       "       [7.09535480e-02],\n",
       "       [5.69963455e-03],\n",
       "       [1.31398439e-03],\n",
       "       [6.19909167e-03],\n",
       "       [1.65221843e-06],\n",
       "       [1.69462283e-26],\n",
       "       [4.21252097e-29],\n",
       "       [1.08609088e-29],\n",
       "       [1.84893608e-04],\n",
       "       [2.29986433e-10],\n",
       "       [1.16775632e-01],\n",
       "       [0.00000000e+00],\n",
       "       [2.18092799e-02],\n",
       "       [2.01681852e-02],\n",
       "       [1.50488095e-16],\n",
       "       [2.50312090e-02],\n",
       "       [2.20958341e-09],\n",
       "       [1.53661630e-26],\n",
       "       [2.61946194e-11],\n",
       "       [6.24080300e-02],\n",
       "       [1.07925534e-02],\n",
       "       [0.00000000e+00],\n",
       "       [3.62426639e-02],\n",
       "       [4.30625846e-08],\n",
       "       [0.00000000e+00],\n",
       "       [0.00000000e+00],\n",
       "       [8.40973854e-03],\n",
       "       [5.83888590e-02],\n",
       "       [9.49347019e-03],\n",
       "       [7.26762834e-13],\n",
       "       [8.14808309e-02],\n",
       "       [8.02892447e-03],\n",
       "       [1.50990069e-01],\n",
       "       [3.02347231e-10],\n",
       "       [1.18295029e-04],\n",
       "       [1.87935393e-15],\n",
       "       [5.00544608e-02],\n",
       "       [4.30683660e-14],\n",
       "       [2.77623741e-07],\n",
       "       [2.00654864e-02],\n",
       "       [1.44004822e-04],\n",
       "       [7.51996040e-03],\n",
       "       [2.39454705e-18],\n",
       "       [1.90534090e-15],\n",
       "       [1.07805550e-01],\n",
       "       [1.13617122e-01],\n",
       "       [1.73487067e-02],\n",
       "       [4.67747450e-04],\n",
       "       [4.96136931e-13],\n",
       "       [1.86164975e-02],\n",
       "       [1.80809498e-02],\n",
       "       [1.74331878e-36],\n",
       "       [3.04616094e-02],\n",
       "       [4.80038597e-20],\n",
       "       [2.89021134e-02],\n",
       "       [1.72201097e-02],\n",
       "       [2.09570230e-12],\n",
       "       [5.66023300e-06],\n",
       "       [7.21677840e-02],\n",
       "       [5.28599918e-02],\n",
       "       [7.15672970e-04],\n",
       "       [8.12041759e-03],\n",
       "       [2.32805222e-22],\n",
       "       [1.35864139e-13],\n",
       "       [1.07437968e-02],\n",
       "       [1.04648769e-02],\n",
       "       [2.26621754e-36],\n",
       "       [0.00000000e+00]], dtype=float32)"
      ]
     },
     "execution_count": 49,
     "metadata": {},
     "output_type": "execute_result"
    }
   ],
   "source": [
    "pred"
   ]
  },
  {
   "cell_type": "code",
   "execution_count": 50,
   "id": "119498b2",
   "metadata": {},
   "outputs": [
    {
     "data": {
      "text/plain": [
       "0      1\n",
       "1      1\n",
       "2      1\n",
       "3      1\n",
       "4      1\n",
       "      ..\n",
       "565    0\n",
       "566    0\n",
       "567    0\n",
       "568    0\n",
       "569    0\n",
       "Name: LABEL, Length: 570, dtype: int64"
      ]
     },
     "execution_count": 50,
     "metadata": {},
     "output_type": "execute_result"
    }
   ],
   "source": [
    "y_test"
   ]
  },
  {
   "cell_type": "markdown",
   "id": "a122c7b7",
   "metadata": {},
   "source": [
    "### using ml models"
   ]
  },
  {
   "cell_type": "code",
   "execution_count": 51,
   "id": "24a58d94",
   "metadata": {},
   "outputs": [],
   "source": [
    "def mmodel(classifier,dtrain_x,dtrain_y,dtest_x,dtest_y):\n",
    "    classifier.fit(dtrain_x,dtrain_y)\n",
    "\n",
    "    prediction=classifier.predict(dtest_x)\n",
    "\n",
    "    print('Validation accuracy of model is', accuracy_score(prediction,dtest_y))\n",
    "    print (\"\\nClassification report :\\n\",(classification_report(dtest_y,prediction)))\n",
    "\n",
    "    plt.figure(figsize=(13,10))\n",
    "    plt.subplot(221)\n",
    "    sns.heatmap(confusion_matrix(dtest_y,prediction),annot=True,cmap=\"viridis\",fmt = \"d\",linecolor=\"k\",linewidths=3)\n",
    "    plt.title(\"CONFUSION MATRIX\",fontsize=20)"
   ]
  },
  {
   "cell_type": "code",
   "execution_count": 52,
   "id": "b0d8c5ea",
   "metadata": {},
   "outputs": [],
   "source": [
    "from sklearn.tree import DecisionTreeClassifier\n",
    "from sklearn.linear_model import LogisticRegression\n",
    "from sklearn.svm import SVC\n",
    "from sklearn.naive_bayes import GaussianNB\n",
    "from sklearn.ensemble import RandomForestClassifier\n",
    "from xgboost import XGBClassifier\n",
    "from sklearn.neural_network import MLPClassifier\n",
    "from sklearn.compose import ColumnTransformer\n",
    "from imblearn.over_sampling import RandomOverSampler"
   ]
  },
  {
   "cell_type": "code",
   "execution_count": 53,
   "id": "0ba3a833",
   "metadata": {},
   "outputs": [
    {
     "name": "stdout",
     "output_type": "stream",
     "text": [
      "Validation accuracy of model is 0.9747974797479748\n",
      "\n",
      "Classification report :\n",
      "               precision    recall  f1-score   support\n",
      "\n",
      "           0       0.99      0.96      0.98      1709\n",
      "           1       0.96      0.99      0.97      1624\n",
      "\n",
      "    accuracy                           0.97      3333\n",
      "   macro avg       0.97      0.98      0.97      3333\n",
      "weighted avg       0.98      0.97      0.97      3333\n",
      "\n"
     ]
    },
    {
     "data": {
      "image/png": "[encoded data removed]",
      "text/plain": [
       "<Figure size 936x720 with 2 Axes>"
      ]
     },
     "metadata": {},
     "output_type": "display_data"
    }
   ],
   "source": [
    "from sklearn.tree import DecisionTreeClassifier\n",
    "ds_model = DecisionTreeClassifier(max_depth=12, random_state=13)\n",
    "mmodel(ds_model,train_X,train_y,test_X,test_y)"
   ]
  },
  {
   "cell_type": "code",
   "execution_count": 54,
   "id": "05786e59",
   "metadata": {},
   "outputs": [
    {
     "name": "stdout",
     "output_type": "stream",
     "text": [
      "Validation accuracy of model is 0.9993999399939995\n",
      "\n",
      "Classification report :\n",
      "               precision    recall  f1-score   support\n",
      "\n",
      "           0       1.00      1.00      1.00      1709\n",
      "           1       1.00      1.00      1.00      1624\n",
      "\n",
      "    accuracy                           1.00      3333\n",
      "   macro avg       1.00      1.00      1.00      3333\n",
      "weighted avg       1.00      1.00      1.00      3333\n",
      "\n"
     ]
    },
    {
     "data": {
      "image/png": "[encoded data removed]",
      "text/plain": [
       "<Figure size 936x720 with 2 Axes>"
      ]
     },
     "metadata": {},
     "output_type": "display_data"
    }
   ],
   "source": [
    "mmodel(RandomForestClassifier(), train_X, train_y, test_X, test_y)"
   ]
  },
  {
   "cell_type": "code",
   "execution_count": 55,
   "id": "eff0de23",
   "metadata": {},
   "outputs": [
    {
     "name": "stdout",
     "output_type": "stream",
     "text": [
      "0.9996999699969997\n"
     ]
    }
   ],
   "source": [
    "from xgboost import XGBClassifier\n",
    "\n",
    "xgb_classifier = XGBClassifier()\n",
    "xgb_classifier.fit(train_X, train_y)\n",
    "y_pred_xgb = xgb_classifier.predict(test_X)\n",
    "accuracy_xgb = accuracy_score(test_y, y_pred_xgb)\n",
    "print(accuracy_xgb)"
   ]
  },
  {
   "cell_type": "code",
   "execution_count": null,
   "id": "52dab8b2",
   "metadata": {},
   "outputs": [],
   "source": []
  }
 ],
 "metadata": {
  "kernelspec": {
   "display_name": "Python 3 (ipykernel)",
   "language": "python",
   "name": "python3"
  },
  "language_info": {
   "codemirror_mode": {
    "name": "ipython",
    "version": 3
   },
   "file_extension": ".py",
   "mimetype": "text/x-python",
   "name": "python",
   "nbconvert_exporter": "python",
   "pygments_lexer": "ipython3",
   "version": "3.9.7"
  }
 },
 "nbformat": 4,
 "nbformat_minor": 5
}
